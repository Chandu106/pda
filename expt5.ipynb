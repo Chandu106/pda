{
  "nbformat": 4,
  "nbformat_minor": 0,
  "metadata": {
    "colab": {
      "provenance": [],
      "gpuType": "T4",
      "authorship_tag": "ABX9TyPjzxWRd08CR1xnNLRrdI73",
      "include_colab_link": true
    },
    "kernelspec": {
      "name": "python3",
      "display_name": "Python 3"
    },
    "language_info": {
      "name": "python"
    },
    "accelerator": "GPU"
  },
  "cells": [
    {
      "cell_type": "markdown",
      "metadata": {
        "id": "view-in-github",
        "colab_type": "text"
      },
      "source": [
        "<a href=\"https://colab.research.google.com/github/Chandu106/pda/blob/main/expt5.ipynb\" target=\"_parent\"><img src=\"https://colab.research.google.com/assets/colab-badge.svg\" alt=\"Open In Colab\"/></a>"
      ]
    },
    {
      "cell_type": "markdown",
      "source": [
        "# **1.Create a two numpy 2D array of size 3x3 and compute the element-wise sum of the array and print the result.**\n"
      ],
      "metadata": {
        "id": "ASwlMyXlDjy4"
      }
    },
    {
      "cell_type": "code",
      "source": [
        "import numpy as np\n",
        "array_1 = np.array([[1,2,3],\n",
        "                    [4,5,6],\n",
        "                    [7,8,9]])\n",
        "\n",
        "array_2 = np.array([[7,8,9],\n",
        "                    [1,2,3],\n",
        "                    [4,5,6]])\n",
        "\n",
        "summation_result = array_1 + array_2\n",
        "print(summation_result)"
      ],
      "metadata": {
        "colab": {
          "base_uri": "https://localhost:8080/"
        },
        "id": "lj0BUSxiEDN7",
        "outputId": "546f6f9c-964f-4f01-9575-01e3e8ada1d8"
      },
      "execution_count": 3,
      "outputs": [
        {
          "output_type": "stream",
          "name": "stdout",
          "text": [
            "[[ 8 10 12]\n",
            " [ 5  7  9]\n",
            " [11 13 15]]\n"
          ]
        }
      ]
    },
    {
      "cell_type": "markdown",
      "source": [
        "# **2.Create a numpy 2d array of 2X3 with random numbers and create large array by repeating the smaller array by 10 times**"
      ],
      "metadata": {
        "id": "oGCV7xahE4r5"
      }
    },
    {
      "cell_type": "code",
      "source": [
        "smaller_array = np.random.rand(2,3)\n",
        "larger_array = np.repeat(smaller_array, 10, axis = 0)\n",
        "print(\"Smaller Array: \", smaller_array)\n",
        "print(\"Larger Array: \", larger_array)"
      ],
      "metadata": {
        "colab": {
          "base_uri": "https://localhost:8080/"
        },
        "id": "IXgALqPDFF82",
        "outputId": "285f37aa-0178-4a78-960a-68691b7cf5f0"
      },
      "execution_count": 9,
      "outputs": [
        {
          "output_type": "stream",
          "name": "stdout",
          "text": [
            "Smaller Array:  [[0.64674769 0.29076195 0.0219575 ]\n",
            " [0.52352267 0.66365415 0.51874747]]\n",
            "Larger Array:  [[0.64674769 0.29076195 0.0219575 ]\n",
            " [0.64674769 0.29076195 0.0219575 ]\n",
            " [0.64674769 0.29076195 0.0219575 ]\n",
            " [0.64674769 0.29076195 0.0219575 ]\n",
            " [0.64674769 0.29076195 0.0219575 ]\n",
            " [0.64674769 0.29076195 0.0219575 ]\n",
            " [0.64674769 0.29076195 0.0219575 ]\n",
            " [0.64674769 0.29076195 0.0219575 ]\n",
            " [0.64674769 0.29076195 0.0219575 ]\n",
            " [0.64674769 0.29076195 0.0219575 ]\n",
            " [0.52352267 0.66365415 0.51874747]\n",
            " [0.52352267 0.66365415 0.51874747]\n",
            " [0.52352267 0.66365415 0.51874747]\n",
            " [0.52352267 0.66365415 0.51874747]\n",
            " [0.52352267 0.66365415 0.51874747]\n",
            " [0.52352267 0.66365415 0.51874747]\n",
            " [0.52352267 0.66365415 0.51874747]\n",
            " [0.52352267 0.66365415 0.51874747]\n",
            " [0.52352267 0.66365415 0.51874747]\n",
            " [0.52352267 0.66365415 0.51874747]]\n"
          ]
        }
      ]
    },
    {
      "cell_type": "markdown",
      "source": [
        "# **3.Create two 1D array on 5 elements with random numbers and print the position of elements where the 2 arrays match**"
      ],
      "metadata": {
        "id": "HaGA9ZpMFp-8"
      }
    },
    {
      "cell_type": "code",
      "source": [
        "array_1 = np.random.randint(low=0, high=10, size=(1,5), dtype=int)\n",
        "array_2 = np.random.randint(low=0, high=10, size=(1,5), dtype=int)\n",
        "positions = np.where(array_1 == array_2)\n",
        "print(\"Array_1: \", array_1)\n",
        "print(\"Array_2: \", array_2)\n",
        "print(\"Matching positions: \",positions)"
      ],
      "metadata": {
        "colab": {
          "base_uri": "https://localhost:8080/"
        },
        "id": "MLnE5RcrGdzn",
        "outputId": "517b1e57-ac73-4523-890e-c2791eaea575"
      },
      "execution_count": 37,
      "outputs": [
        {
          "output_type": "stream",
          "name": "stdout",
          "text": [
            "Array_1:  [[6 6 9 7 0]]\n",
            "Array_2:  [[8 9 8 7 7]]\n",
            "Matching positions:  (array([0]), array([3]))\n"
          ]
        }
      ]
    },
    {
      "cell_type": "markdown",
      "source": [
        "# **4.Create a 4X2 integer array and Prints its atributes such as shape,dimension and length.**\n"
      ],
      "metadata": {
        "id": "IJUjY2A6G34J"
      }
    },
    {
      "cell_type": "code",
      "source": [
        "array = np.array([[1,2],\n",
        "                  [3,4],\n",
        "                  [5,6],\n",
        "                  [7,8]])\n",
        "print(\"Shape of the array: \",array.shape)\n",
        "print(\"Dimension of the array: \",array.ndim)\n",
        "print(\"Length of the array: \",len(array))"
      ],
      "metadata": {
        "colab": {
          "base_uri": "https://localhost:8080/"
        },
        "id": "EBH2FQ9oKt5R",
        "outputId": "4f537e88-3fe1-4e09-ac47-ba61f0c96067"
      },
      "execution_count": 40,
      "outputs": [
        {
          "output_type": "stream",
          "name": "stdout",
          "text": [
            "Shape of the array:  (4, 2)\n",
            "Dimension of the array:  2\n",
            "Length of the array:  4\n"
          ]
        }
      ]
    },
    {
      "cell_type": "markdown",
      "source": [
        "# **5.Create a 5X2 integer array from a range between 100 to 200 such that the difference between each element is 10.**"
      ],
      "metadata": {
        "id": "WepJ1QJHMMWr"
      }
    },
    {
      "cell_type": "code",
      "source": [
        "array = np.arange(100, 200, 10).reshape(5,2)\n",
        "print(\"Required array: \", array)"
      ],
      "metadata": {
        "colab": {
          "base_uri": "https://localhost:8080/"
        },
        "id": "iS9wwxVHMcGG",
        "outputId": "11da50f3-d69c-4fcd-9834-37cca778c9f2"
      },
      "execution_count": 42,
      "outputs": [
        {
          "output_type": "stream",
          "name": "stdout",
          "text": [
            "Required array:  [[100 110]\n",
            " [120 130]\n",
            " [140 150]\n",
            " [160 170]\n",
            " [180 190]]\n"
          ]
        }
      ]
    },
    {
      "cell_type": "markdown",
      "source": [
        "# **6.Create a numpy array of 5*4 and return array of items by taking the third column from all rows**"
      ],
      "metadata": {
        "id": "lnSOPJoWNcei"
      }
    },
    {
      "cell_type": "code",
      "source": [
        "array = np.random.randint(low=0, high=10, size=(5,4), dtype=int)\n",
        "print(\"Original array: \", array)\n",
        "req_array = array[:,2]\n",
        "print(\"Required array: \",req_array)"
      ],
      "metadata": {
        "colab": {
          "base_uri": "https://localhost:8080/"
        },
        "id": "RqexbeQcNv6Y",
        "outputId": "fa104c42-9982-4b96-a538-6149198e6f51"
      },
      "execution_count": 50,
      "outputs": [
        {
          "output_type": "stream",
          "name": "stdout",
          "text": [
            "Original array:  [[2 9 4 3]\n",
            " [9 1 3 4]\n",
            " [1 5 0 4]\n",
            " [1 3 7 1]\n",
            " [4 7 3 4]]\n",
            "Required array:  [4 3 0 7 3]\n"
          ]
        }
      ]
    },
    {
      "cell_type": "markdown",
      "source": [
        "# **7.Return array of odd rows and even columns from above numpy array**"
      ],
      "metadata": {
        "id": "go-RGplGN_1l"
      }
    },
    {
      "cell_type": "code",
      "source": [
        "req_array = array[1::2, 0::2]\n",
        "print(\"req_array: \", req_array)"
      ],
      "metadata": {
        "colab": {
          "base_uri": "https://localhost:8080/"
        },
        "id": "e7kRmm9jPJQg",
        "outputId": "03d6648c-beb0-459a-ec65-456fc90032bf"
      },
      "execution_count": 52,
      "outputs": [
        {
          "output_type": "stream",
          "name": "stdout",
          "text": [
            "req_array:  [[9 3]\n",
            " [1 7]]\n"
          ]
        }
      ]
    },
    {
      "cell_type": "markdown",
      "source": [
        "# **8.Delete the second column from a given array and insert the following new column in its place. sampleArray = numpy.array([[34,43,73],[82,22,12],[53,94,66]]) newColumn = numpy.array([[10,10,10]])**"
      ],
      "metadata": {
        "id": "H0-AqBfoPomI"
      }
    },
    {
      "cell_type": "code",
      "source": [
        "given_array = np.array([[34,43,73],\n",
        "                        [82,22,12],\n",
        "                        [53,94,66]])\n",
        "deleted_column_array = np.delete(given_array, 1, axis=1)\n",
        "print(\"Deleted column array: \", deleted_column_array)\n",
        "insert_array = np.array([[10,10,10]])\n",
        "inserted_column_array = np.insert(deleted_column_array, 1, insert_array,axis=1)\n",
        "print(\"Inserted column array: \",inserted_column_array)"
      ],
      "metadata": {
        "colab": {
          "base_uri": "https://localhost:8080/"
        },
        "id": "dh9Fcb49Qaru",
        "outputId": "a0fbc4d8-9ce3-4cc2-8dab-66634a7d3a71"
      },
      "execution_count": 63,
      "outputs": [
        {
          "output_type": "stream",
          "name": "stdout",
          "text": [
            "Deleted column array:  [[34 73]\n",
            " [82 12]\n",
            " [53 66]]\n",
            "Inserted column array:  [[34 10 73]\n",
            " [82 10 12]\n",
            " [53 10 66]]\n"
          ]
        }
      ]
    },
    {
      "cell_type": "markdown",
      "source": [
        "# **9.Find the positions of: elements in x where its value is more than its corresponding element in y, and elements in x where its value is equals to its corresponding element in y**"
      ],
      "metadata": {
        "id": "dnMjPVAdQsPB"
      }
    },
    {
      "cell_type": "code",
      "source": [
        "x = np.random.randint(low=0, high=10, size=(1,5), dtype=int)\n",
        "y = np.random.randint(low=0, high=10, size=(1,5), dtype=int)\n",
        "more_than_positions = np.where(x > y)\n",
        "equal_positions = np.where(x == y)\n",
        "print(x,y)\n",
        "print(more_than_positions)\n",
        "print(equal_positions)"
      ],
      "metadata": {
        "colab": {
          "base_uri": "https://localhost:8080/"
        },
        "id": "rYjZrQ-rSUvq",
        "outputId": "d0216caf-30c5-403e-cc82-026c26ba9cac"
      },
      "execution_count": 73,
      "outputs": [
        {
          "output_type": "stream",
          "name": "stdout",
          "text": [
            "[[5 0 8 8 9]] [[6 0 4 3 6]]\n",
            "(array([0, 0, 0]), array([2, 3, 4]))\n",
            "(array([0]), array([1]))\n"
          ]
        }
      ]
    },
    {
      "cell_type": "code",
      "source": [],
      "metadata": {
        "id": "UM05_FLGTCo_"
      },
      "execution_count": null,
      "outputs": []
    }
  ]
}